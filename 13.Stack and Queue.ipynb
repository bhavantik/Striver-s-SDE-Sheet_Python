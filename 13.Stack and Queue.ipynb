{
 "cells": [
  {
   "cell_type": "markdown",
   "metadata": {},
   "source": [
    "# Content"
   ]
  },
  {
   "cell_type": "markdown",
   "metadata": {},
   "source": [
    "## 13.1 Implement Stack using Array\n",
    "Problem statement: Implement a stack using an array.\n",
    "\n",
    "Note: Stack is a data structure that follows the Last In First Out (LIFO) rule.\n",
    "\n",
    "Example:\n",
    "\n",
    "\n",
    "Explanation: \n",
    "\n",
    "push(): Insert the element in the stack.\n",
    "\n",
    "pop(): Remove and return the topmost element of the stack.\n",
    "\n",
    "top(): Return the topmost element of the stack\n",
    "\n",
    "size(): Return the number of remaining elements in the stack."
   ]
  },
  {
   "cell_type": "markdown",
   "metadata": {},
   "source": [
    "### solution 1"
   ]
  },
  {
   "cell_type": "code",
   "execution_count": 27,
   "metadata": {},
   "outputs": [],
   "source": [
    "class Stack:\n",
    "    def __init__(self):\n",
    "        self.stack = []\n",
    "        \n",
    "    def push(self,ele):\n",
    "        self.stack.append(ele)\n",
    "    def pop(self):\n",
    "        return self.stack.pop()\n",
    "    def top(self):\n",
    "        return self.stack[-1]\n",
    "    def size(self):\n",
    "        return len(self.stack)\n",
    "        "
   ]
  },
  {
   "cell_type": "code",
   "execution_count": 29,
   "metadata": {},
   "outputs": [],
   "source": [
    "ob = Stack()\n",
    "ob.push(5)\n",
    "ob.push(9)\n"
   ]
  },
  {
   "cell_type": "code",
   "execution_count": 30,
   "metadata": {},
   "outputs": [
    {
     "data": {
      "text/plain": [
       "9"
      ]
     },
     "execution_count": 30,
     "metadata": {},
     "output_type": "execute_result"
    }
   ],
   "source": [
    "ob.top()"
   ]
  },
  {
   "cell_type": "code",
   "execution_count": 31,
   "metadata": {},
   "outputs": [
    {
     "data": {
      "text/plain": [
       "2"
      ]
     },
     "execution_count": 31,
     "metadata": {},
     "output_type": "execute_result"
    }
   ],
   "source": [
    "ob.size()"
   ]
  },
  {
   "cell_type": "markdown",
   "metadata": {},
   "source": [
    "# Solution 2"
   ]
  },
  {
   "cell_type": "code",
   "execution_count": 41,
   "metadata": {},
   "outputs": [],
   "source": [
    "# using top = -1 \n",
    "\n",
    "top = -1\n",
    "stack = [None for _ in range(10)]\n",
    "\n",
    "def push(ele):\n",
    "    top += 1\n",
    "    stack[top] = ele\n",
    "def pop():\n",
    "    print(stack[top])\n",
    "    top -=1\n",
    "def top():\n",
    "    print(stack[top])\n",
    "def size():\n",
    "    print(top+1)\n"
   ]
  },
  {
   "cell_type": "code",
   "execution_count": 42,
   "metadata": {},
   "outputs": [
    {
     "ename": "UnboundLocalError",
     "evalue": "local variable 'top' referenced before assignment",
     "output_type": "error",
     "traceback": [
      "\u001b[1;31m---------------------------------------------------------------------------\u001b[0m",
      "\u001b[1;31mUnboundLocalError\u001b[0m                         Traceback (most recent call last)",
      "\u001b[1;32m<ipython-input-42-114e19301101>\u001b[0m in \u001b[0;36m<module>\u001b[1;34m\u001b[0m\n\u001b[1;32m----> 1\u001b[1;33m \u001b[0mpush\u001b[0m\u001b[1;33m(\u001b[0m\u001b[1;36m5\u001b[0m\u001b[1;33m)\u001b[0m\u001b[1;33m\u001b[0m\u001b[1;33m\u001b[0m\u001b[0m\n\u001b[0m\u001b[0;32m      2\u001b[0m \u001b[0mpush\u001b[0m\u001b[1;33m(\u001b[0m\u001b[1;36m9\u001b[0m\u001b[1;33m)\u001b[0m\u001b[1;33m\u001b[0m\u001b[1;33m\u001b[0m\u001b[0m\n",
      "\u001b[1;32m<ipython-input-41-d859a063c86a>\u001b[0m in \u001b[0;36mpush\u001b[1;34m(ele)\u001b[0m\n\u001b[0;32m      5\u001b[0m \u001b[1;33m\u001b[0m\u001b[0m\n\u001b[0;32m      6\u001b[0m \u001b[1;32mdef\u001b[0m \u001b[0mpush\u001b[0m\u001b[1;33m(\u001b[0m\u001b[0mele\u001b[0m\u001b[1;33m)\u001b[0m\u001b[1;33m:\u001b[0m\u001b[1;33m\u001b[0m\u001b[1;33m\u001b[0m\u001b[0m\n\u001b[1;32m----> 7\u001b[1;33m     \u001b[0mtop\u001b[0m \u001b[1;33m+=\u001b[0m \u001b[1;36m1\u001b[0m\u001b[1;33m\u001b[0m\u001b[1;33m\u001b[0m\u001b[0m\n\u001b[0m\u001b[0;32m      8\u001b[0m     \u001b[0mstack\u001b[0m\u001b[1;33m[\u001b[0m\u001b[0mtop\u001b[0m\u001b[1;33m]\u001b[0m \u001b[1;33m=\u001b[0m \u001b[0mele\u001b[0m\u001b[1;33m\u001b[0m\u001b[1;33m\u001b[0m\u001b[0m\n\u001b[0;32m      9\u001b[0m \u001b[1;32mdef\u001b[0m \u001b[0mpop\u001b[0m\u001b[1;33m(\u001b[0m\u001b[1;33m)\u001b[0m\u001b[1;33m:\u001b[0m\u001b[1;33m\u001b[0m\u001b[1;33m\u001b[0m\u001b[0m\n",
      "\u001b[1;31mUnboundLocalError\u001b[0m: local variable 'top' referenced before assignment"
     ]
    }
   ],
   "source": [
    "push(5)\n",
    "push(9)"
   ]
  },
  {
   "cell_type": "markdown",
   "metadata": {},
   "source": [
    "## 13.2 Implement Queue Using Arrays\n",
    "\n",
    "Problem Statement: Implement Queue Data Structure using Array with all functions like pop, push, top, size, etc.\n",
    "\n",
    "Example:\n",
    "\n",
    "Input: push(4)\n",
    "       push(14)\n",
    "       push(24)\n",
    "       push(34)\n",
    "       top()\n",
    "       size()\n",
    "       pop()\n",
    "\n",
    "Output: \n",
    "\n",
    "The element pushed is 4\n",
    "The element pushed is 14\n",
    "The element pushed is 24\n",
    "The element pushed is 34\n",
    "The peek of the queue before deleting any element 4\n",
    "The size of the queue before deletion 4\n",
    "The first element to be deleted 4\n",
    "The peek of the queue after deleting an element 14\n",
    "The size of the queue after deleting an element 3\n"
   ]
  },
  {
   "cell_type": "markdown",
   "metadata": {},
   "source": [
    "## Solution 1\n",
    "Time Complexity:\n",
    "\n",
    "pop function: O(1)\n",
    "\n",
    "push function: O(1)\n",
    "\n",
    "top function: O(1)\n",
    "\n",
    "size function: O(1)\n",
    "\n",
    "Space Complexity:\n",
    "\n",
    "Whole Queue: O(n)"
   ]
  },
  {
   "cell_type": "code",
   "execution_count": null,
   "metadata": {},
   "outputs": [],
   "source": [
    "def queue:\n",
    "    def __init__(self):\n",
    "        self.curr = 0\n",
    "        self.maxsize = 10\n",
    "        self.arr= [None for i in range(10)]\\\n",
    "        self.start = -1\n",
    "        self.end = -1\n",
    "    def push(ele):\n",
    "        if self.curr== self.maxsize:\n",
    "            print('queue is full')\n",
    "        elif self.end == -1:\n",
    "            self.start =1\n",
    "            self.arr[start] = ele\n",
    "            self.curr += 1\n",
    "        else:\n",
    "            \n",
    "        pass\n",
    "    \n",
    "    def pop():\n",
    "        pass\n",
    "    def top():\n",
    "        pass\n",
    "    def size():\n",
    "        pass"
   ]
  },
  {
   "cell_type": "markdown",
   "metadata": {},
   "source": [
    "## Solution 2: list impleentation"
   ]
  },
  {
   "cell_type": "code",
   "execution_count": 1,
   "metadata": {},
   "outputs": [
    {
     "name": "stdout",
     "output_type": "stream",
     "text": [
      "Initial Queue is: [10, 100, 1000, 10000]\n",
      "10\n",
      "100\n",
      "1000\n",
      "After Removing elements: [10000]\n"
     ]
    }
   ],
   "source": [
    "# implementing Queue using List :\n",
    "q=[]\n",
    "q.append(10)\n",
    "q.append(100)\n",
    "q.append(1000)\n",
    "q.append(10000)\n",
    "print(\"Initial Queue is:\",q)\n",
    "print(q.pop(0))\n",
    "print(q.pop(0))\n",
    "print(q.pop(0))\n",
    "print(\"After Removing elements:\",q)\n"
   ]
  },
  {
   "cell_type": "markdown",
   "metadata": {},
   "source": [
    "# solution 3: using list function"
   ]
  },
  {
   "cell_type": "code",
   "execution_count": 3,
   "metadata": {},
   "outputs": [],
   "source": [
    "# Implement Queue using List(Functions)\n",
    "q=[]\n",
    "def Enqueue():\n",
    "    if len(q)==size: # check wether the stack is full or not\n",
    "        print(\"Queue is Full!!!!\")\n",
    "    else:\n",
    "        element=input(\"Enter the element:\")\n",
    "        q.append(element)\n",
    "        print(element,\"is added to the Queue!\")\n",
    "def dequeue():\n",
    "    if not q:# or if len(stack)==0\n",
    "        print(\"Queue is Empty!!!\")\n",
    "    else:\n",
    "        e=q.pop(0)\n",
    "        print(\"element removed!!:\",e)\n",
    "def display():\n",
    "    print(q)\n",
    "    size=int(input(\"Enter the size of Queue:\"))\n",
    "    while True:\n",
    "        print(\"Select the Operation:1.Add 2.Delete 3. Display 4. Quit\")\n",
    "        choice=int(input())\n",
    "        if choice==1:\n",
    "            Enqueue()\n",
    "        elif choice==2:\n",
    "            dequeue()\n",
    "        elif choice==3:\n",
    "            display()\n",
    "        elif choice==4:\n",
    "            break\n",
    "        else:\n",
    "            print(\"Invalid Option!!!\")"
   ]
  },
  {
   "cell_type": "markdown",
   "metadata": {},
   "source": [
    "# solution 4: Using queue module"
   ]
  },
  {
   "cell_type": "code",
   "execution_count": 4,
   "metadata": {},
   "outputs": [
    {
     "name": "stdout",
     "output_type": "stream",
     "text": [
      "Initial Size Before Insertion: 0\n",
      "After Insertion: 4\n",
      "Queue is Full or Not: True\n",
      "Size of Queue: 4\n",
      "Removing Elements:\n",
      "A\n",
      "AA\n",
      "AAA\n",
      "Empty or Not?? False\n",
      "AAAA\n",
      "Empty or Not?? True\n",
      "Size of Queue: 0\n"
     ]
    }
   ],
   "source": [
    "# implment queue using queue module\n",
    "from queue import Queue\n",
    "q=Queue(maxsize=4)\n",
    "print(\"Initial Size Before Insertion:\",q.qsize())\n",
    "q.put('A')\n",
    "q.put('AA')\n",
    "q.put('AAA')\n",
    "q.put('AAAA')\n",
    "print(\"After Insertion:\",q.qsize())\n",
    "print(\"Queue is Full or Not:\",q.full())\n",
    "print(\"Size of Queue:\",q.qsize())\n",
    "print(\"Removing Elements:\")\n",
    "print(q.get())\n",
    "print(q.get())\n",
    "print(q.get())\n",
    "print(\"Empty or Not??\",q.empty())\n",
    "print(q.get())\n",
    "print(\"Empty or Not??\",q.empty())\n",
    "print(\"Size of Queue:\",q.qsize())"
   ]
  },
  {
   "cell_type": "markdown",
   "metadata": {},
   "source": [
    "### solution 5: using deque module"
   ]
  },
  {
   "cell_type": "code",
   "execution_count": null,
   "metadata": {},
   "outputs": [],
   "source": [
    "from collections import deque\n",
    "q=deque()\n",
    "q.append(10)\n",
    "q.append(100)\n",
    "q.append(1000)\n",
    "q.append(10000)\n",
    "print(\"Initial Queue is:\",q)\n",
    "print(q.popleft())\n",
    "print(q.popleft())\n",
    "print(\"After Removing elements:\",q)"
   ]
  },
  {
   "cell_type": "markdown",
   "metadata": {},
   "source": [
    "# 13. 3 Implement Stack using single Queue\n",
    "\n",
    "Problem Statement: Implement a Stack using a single Queue.\n",
    "\n",
    "Note: Stack is a data structure that follows the Last In First Out (LIFO) rule.\n",
    "\n",
    "Note: Queue is a data structure that follows the First In First Out (FIFO) rule."
   ]
  },
  {
   "cell_type": "code",
   "execution_count": 12,
   "metadata": {},
   "outputs": [],
   "source": [
    "q = []\n",
    "\n",
    "def push(ele):\n",
    "    size = len(q)\n",
    "    q.append(ele)\n",
    "    for i in range(size):\n",
    "        x = q.pop(0)\n",
    "        q.append(x)\n",
    "def pop():\n",
    "    if len(q)==0:\n",
    "        return print('Queue is empty')\n",
    "    return q.pop(0)\n",
    "def top():\n",
    "    if len(q)==0:\n",
    "        return print('Queue is empty')\n",
    "    return q[0]\n",
    "\n",
    "def isempty():\n",
    "    if len(q)==0:\n",
    "        return 1\n",
    "    else:\n",
    "        return 0\n",
    "    \n",
    "    "
   ]
  },
  {
   "cell_type": "code",
   "execution_count": 13,
   "metadata": {},
   "outputs": [
    {
     "data": {
      "text/plain": [
       "6"
      ]
     },
     "execution_count": 13,
     "metadata": {},
     "output_type": "execute_result"
    }
   ],
   "source": [
    "push(5)\n",
    "push(3)\n",
    "pop()\n",
    "push(6)\n",
    "top()"
   ]
  },
  {
   "cell_type": "code",
   "execution_count": null,
   "metadata": {},
   "outputs": [],
   "source": [
    "Leetcode: https://leetcode.com/problems/implement-stack-using-queues/submissions/"
   ]
  },
  {
   "cell_type": "markdown",
   "metadata": {},
   "source": [
    "# 13.4 Implement Queue using Stack\n",
    "Problem Statement: Given a Stack having some elements stored in it. Can you implement a\n",
    "Queue using the given Stack?\n",
    "\n",
    "Queue: A Queue is a linear data structure that works on the basis of FIFO(First in First out). This means the element added at first will be removed first from the Queue."
   ]
  },
  {
   "cell_type": "markdown",
   "metadata": {},
   "source": [
    "### Solution 1: Using two Stacks where push operation is O(N)\n",
    "\n",
    "Time Complexity: O(N )  \n",
    "\n",
    "Space Complexity: O(2N)\n",
    "\n",
    "striver's solution"
   ]
  },
  {
   "cell_type": "markdown",
   "metadata": {},
   "source": [
    "### Solution 2: Using two Stacks where push operation is O(1)\n",
    "\n",
    "Time Complexity: O(1 )\n",
    "\n",
    "Space Complexity: O(2N)"
   ]
  },
  {
   "cell_type": "markdown",
   "metadata": {},
   "source": [
    "## Solution 3: \n",
    "\n",
    "#### Method 1 (By making enQueue operation costly): This method makes sure that oldest entered element is always at the top of stack 1, so that deQueue operation just pops from stack1. To put the element at top of stack1, stack2 is used.\n",
    "enQueue(q, x): \n",
    "\n",
    "While stack1 is not empty, push everything from stack1 to stack2.\n",
    "Push x to stack1 (assuming size of stacks is unlimited).\n",
    "Push everything back to stack1.\n",
    "Here time complexity will be O(n)\n",
    "\n",
    "deQueue(q): \n",
    "\n",
    "If stack1 is empty then error\n",
    "Pop an item from stack1 and return it\n",
    "Here time complexity will be O(1)\n",
    "\n",
    "Complexity Analysis: \n",
    "\n",
    "Time Complexity: \n",
    "Push operation: O(N). \n",
    "In the worst case we have empty whole of stack 1 into stack 2.\n",
    "Pop operation: O(1). \n",
    "Same as pop operation in stack.\n",
    "Auxiliary Space: O(N). \n",
    "Use of stack for storing values"
   ]
  },
  {
   "cell_type": "code",
   "execution_count": 23,
   "metadata": {},
   "outputs": [],
   "source": [
    "class Queue:\n",
    "    def __init__(self):\n",
    "        self.s1 = []\n",
    "        self.s2 = []\n",
    "    def enqueue(self,x):\n",
    "        while len(self.s1)!=0:\n",
    "            self.s2.append(self.s1[-1])\n",
    "            self.s1.pop()\n",
    "        self.s1.append(x)\n",
    "        \n",
    "        while len(self.s2)!=0:\n",
    "            self.s1.append(self.s2[-1])\n",
    "            self.s2.pop()\n",
    "        \n",
    "    def dequeue(self):\n",
    "        if len(self.s1)==0:\n",
    "            print('Queue is empty')\n",
    "        else:\n",
    "            return self.s1.pop(0)"
   ]
  },
  {
   "cell_type": "code",
   "execution_count": 24,
   "metadata": {},
   "outputs": [
    {
     "data": {
      "text/plain": [
       "9"
      ]
     },
     "execution_count": 24,
     "metadata": {},
     "output_type": "execute_result"
    }
   ],
   "source": [
    "ob = Queue()\n",
    "ob.enqueue(5)\n",
    "ob.enqueue(4)\n",
    "ob.enqueue(9)\n",
    "ob.dequeue()\n",
    "# ob.dequeue()"
   ]
  },
  {
   "cell_type": "code",
   "execution_count": 25,
   "metadata": {},
   "outputs": [
    {
     "data": {
      "text/plain": [
       "4"
      ]
     },
     "execution_count": 25,
     "metadata": {},
     "output_type": "execute_result"
    }
   ],
   "source": [
    "ob.dequeue()"
   ]
  },
  {
   "cell_type": "markdown",
   "metadata": {},
   "source": [
    "## Solution 4:\n",
    "#### Method 2 (By making deQueue operation costly): In this method, in en-queue operation, the new element is entered at the top of stack1. In de-queue operation, if stack2 is empty then all the elements are moved to stack2 and finally top of stack2 is returned.\n",
    "\n",
    "enQueue(q,  x)\n",
    "  1) Push x to stack1 (assuming size of stacks is unlimited).\n",
    "Here time complexity will be O(1)\n",
    "\n",
    "deQueue(q)\n",
    "  1) If both stacks are empty then error.\n",
    "  2) If stack2 is empty\n",
    "       While stack1 is not empty, push everything from stack1 to stack2.\n",
    "  3) Pop the element from stack2 and return it.\n",
    "    Here time complexity will be O(n)\n",
    "    \n",
    "    \n",
    "##### Method 2 is definitely better than method 1. \n",
    "\n",
    "Method 1 moves all the elements twice in enQueue operation, while method 2 (in deQueue operation) moves the elements once and moves elements only if stack2 empty. So, the amortized complexity of the dequeue operation becomes \\Theta (1)\n",
    "\n",
    "Implementation of method 2:"
   ]
  },
  {
   "cell_type": "code",
   "execution_count": 30,
   "metadata": {},
   "outputs": [],
   "source": [
    "class Queue:\n",
    "    def __init__(self):\n",
    "        self.s1 = []\n",
    "        self.s2 = []\n",
    "    def enqueue(self,x):\n",
    "#         while len(self.s1)!=0:\n",
    "#             self.s2.append(self.s1[-1])\n",
    "#             self.s1.pop()\n",
    "        self.s1.append(x)\n",
    "        \n",
    "#         while len(self.s2)!=0:\n",
    "#             self.s1.append(self.s2[-1])\n",
    "#             self.s2.pop()\n",
    "        \n",
    "    def dequeue(self):\n",
    "        if len(self.s1)==0 and len(self.s2)==0:\n",
    "            print('Queue is empty')\n",
    "        elif len(self.s2)==0 and len(self.s1)>=0:\n",
    "            while len(self.s1)!=0:\n",
    "                x = self.s1.pop()\n",
    "                self.s2.append(x)\n",
    "                return self.s2.pop(0)\n",
    "        else:\n",
    "            return self.s2.pop(0)"
   ]
  },
  {
   "cell_type": "code",
   "execution_count": 31,
   "metadata": {},
   "outputs": [
    {
     "data": {
      "text/plain": [
       "9"
      ]
     },
     "execution_count": 31,
     "metadata": {},
     "output_type": "execute_result"
    }
   ],
   "source": [
    "ob = Queue()\n",
    "ob.enqueue(5)\n",
    "ob.enqueue(4)\n",
    "ob.enqueue(9)\n",
    "ob.dequeue()\n",
    "# ob.dequeue()"
   ]
  },
  {
   "cell_type": "code",
   "execution_count": 32,
   "metadata": {},
   "outputs": [
    {
     "data": {
      "text/plain": [
       "4"
      ]
     },
     "execution_count": 32,
     "metadata": {},
     "output_type": "execute_result"
    }
   ],
   "source": [
    "ob.dequeue()"
   ]
  },
  {
   "cell_type": "markdown",
   "metadata": {},
   "source": [
    "leetcode: https://leetcode.com/problems/implement-queue-using-stacks/submissions/"
   ]
  },
  {
   "cell_type": "markdown",
   "metadata": {},
   "source": [
    "# 13.5 Check for Balanced Parentheses\n",
    "Problem Statement: Check Balanced Parentheses. Given string str containing just the characters ‘(‘, ‘)’, ‘{‘, ‘}’, ‘[‘ and ‘]’, check if the input string is valid and return true if the string is balanced otherwise return false.\n",
    "\n",
    "Note: string str is valid if:\n",
    "\n",
    "Open brackets must be closed by the same type of brackets.\n",
    "Open brackets must be closed in the correct order.\n",
    "Example 1:\n",
    "\n",
    "Input: str = “( )[ { } ( ) ]”\n",
    "\n",
    "Output: True\n",
    "\n",
    "Explanation: As every open bracket has its corresponding \n",
    "close bracket. Match parentheses are in correct order \n",
    "hence they are balanced.\n",
    "Example 2:\n",
    "\n",
    "Input: str = “[ ( )”\n",
    "\n",
    "Output: False\n",
    "\n",
    "Explanation: As ‘[‘ does not have ‘]’ hence it is \n",
    "not valid and will return false."
   ]
  },
  {
   "cell_type": "markdown",
   "metadata": {},
   "source": [
    "#### Solution 1:\n",
    "Approach: \n",
    "\n",
    "Whenever we get the opening bracket we will push it into the stack. I.e ‘{‘, ’[’, ’(‘.\n",
    "Whenever we get the closing bracket we will check if the stack is non-empty or not.\n",
    "If the stack is empty we will return false, else if it is nonempty then we will check if the topmost element of the stack is the opposite pair of the closing bracket or not.\n",
    "If it is not the opposite pair of the closing bracket then return false, else move ahead.\n",
    "After we move out of the string the stack has to be empty if it is non-empty then return it as invalid else it is a valid string.\n",
    "\n",
    "Time Complexity: O(N)\n",
    "\n",
    "Space Complexity: O(N)"
   ]
  },
  {
   "cell_type": "code",
   "execution_count": 2,
   "metadata": {},
   "outputs": [],
   "source": [
    "class Solution:\n",
    "    def isValid(self, s):\n",
    "        stack = []\n",
    "        open = '([{'\n",
    "        close = ')]}'\n",
    "        \n",
    "        n = len(s)\n",
    "\n",
    "        for i in range(n):\n",
    "            if s[i] in open:\n",
    "                stack.append(s[i])\n",
    "                    \n",
    "            else:\n",
    "                if not stack:\n",
    "                    return 0\n",
    "                top = stack[-1]\n",
    "                if (top == '(' and s[i]==')') or (top == '[' and s[i]==']') or (top == '{' and s[i]=='}'):\n",
    "                    stack.pop()\n",
    "                else:\n",
    "                    return 0\n",
    "        if not stack:\n",
    "            return 1\n",
    "        else:\n",
    "            return 0"
   ]
  },
  {
   "cell_type": "code",
   "execution_count": 3,
   "metadata": {},
   "outputs": [
    {
     "data": {
      "text/plain": [
       "1"
      ]
     },
     "execution_count": 3,
     "metadata": {},
     "output_type": "execute_result"
    }
   ],
   "source": [
    "ob = Solution()\n",
    "s = '(){[()]}'\n",
    "ob.isValid(s)"
   ]
  },
  {
   "cell_type": "markdown",
   "metadata": {},
   "source": [
    "# 13.6 Next Greater Element Using Stack\n",
    "Problem Statement: Given a circular integer array A, return the next greater element for every element in A. The next greater element for an element x is the first element greater than x that we come across while traversing the array in a clockwise manner. If it doesn’t exist, return -1 for this element.\n",
    "\n",
    "Examples:\n",
    "\n",
    "Example 1: \n",
    "\n",
    "Input: N = 11, A[] = {3,10,4,2,1,2,6,1,7,2,9}\n",
    "\n",
    "Output: 10,-1,6,6,2,6,7,7,9,9,10\n",
    "\n",
    "Explanation: For the first element in A ,i.e, 3, the greater element which comes next to it while traversing and is closest to it is 10. Hence,10 is present on index 0 in the resultant array. Now for the second element,i.e, 10, there is no greater number and hence -1 is it’s next greater element (NGE). Similarly, we got the NGEs for all other elements present in A.  \n",
    "\n",
    "\n",
    "Example 2:\n",
    "\n",
    "Input:  N = 6, A[] = {5,7,1,7,6,0}\n",
    "\n",
    "Output: 7,-1,7,-1,7,5\n",
    "\n",
    "Time Complexity: O(N)\n",
    "\n",
    "Space Complexity: O(N)"
   ]
  },
  {
   "cell_type": "markdown",
   "metadata": {},
   "source": [
    "### Solution 1: Brute force(Naive Bayes)\n",
    "\n",
    "for i in range(n):\n",
    "    for j in range(i+1,n):\n",
    "        if a[i]<a[j]:\n",
    "            Break\n",
    "Time coplexity : O(N2)"
   ]
  },
  {
   "cell_type": "markdown",
   "metadata": {},
   "source": [
    "### Solution 2: Stack\n",
    "\n",
    "Time complexity = O(2n  + 2n)  = O(n"
   ]
  },
  {
   "cell_type": "code",
   "execution_count": 12,
   "metadata": {},
   "outputs": [
    {
     "name": "stdout",
     "output_type": "stream",
     "text": [
      "[10, -1, 5, 5, 6, 8, 6, 6, 8, 10]\n"
     ]
    }
   ],
   "source": [
    "nge = []\n",
    "stack = []\n",
    "a = [4,10,4,3,5,6,5,1,6,8]\n",
    "n= len(a)\n",
    "\n",
    "for i in range(2*n-1,-1,-1):\n",
    "    while(len(stack)!=0 and stack[-1]<=a[i%n]):\n",
    "        stack.pop()\n",
    "    if(i<n):\n",
    "        if len(stack)!=0:\n",
    "            nge.append(stack[-1])\n",
    "        else:\n",
    "            nge.append(-1)\n",
    "    stack.append(a[i%n])\n",
    "nge.reverse()\n",
    "print(nge)   "
   ]
  },
  {
   "cell_type": "markdown",
   "metadata": {},
   "source": [
    "Leetcode: https://leetcode.com/problems/next-greater-element-ii/submissions/"
   ]
  },
  {
   "cell_type": "markdown",
   "metadata": {},
   "source": [
    "# 13.7 Sort a Stack"
   ]
  },
  {
   "cell_type": "markdown",
   "metadata": {},
   "source": [
    "Github: https://www.geeksforgeeks.org/sort-a-stack-using-recursion/"
   ]
  },
  {
   "cell_type": "code",
   "execution_count": null,
   "metadata": {},
   "outputs": [],
   "source": []
  },
  {
   "cell_type": "markdown",
   "metadata": {},
   "source": [
    "# Extra\n",
    "#### 1. Applications\n",
    "- Chrome history backward\n",
    "- undu operation\n",
    "\n",
    "#### 2. impleetation\n",
    "1. using list:\n",
    "    - The issue with using a list as a stack is that list uses dymanic array internally and when it reaches its capacity it will reallocate a big chunk of memory somewhere else in memory area and copy all the elements. For example in below diagram if a list has a capacity of 10 and we try to insert 11th element, it will not allocate new memory in a different memory region, copy all 10 elements and then insert the 11th element. So overhead here is (1) allocate new memory plus (2) copy all existing elements in new memory area\n",
    "\n",
    "2. Deque()\n",
    "    - to resolve issue of array of dynamic emory allocaition\n",
    "    - implemented using doubly linkedlist\n"
   ]
  },
  {
   "cell_type": "markdown",
   "metadata": {},
   "source": []
  },
  {
   "cell_type": "markdown",
   "metadata": {},
   "source": [
    "## 1. Using List"
   ]
  },
  {
   "cell_type": "code",
   "execution_count": 12,
   "metadata": {},
   "outputs": [],
   "source": [
    "\n",
    "\n",
    "s = []\n",
    "s.append('https://www.cnn.com/')\n",
    "s.append('https://www.cnn.com/world')\n",
    "s.append('https://www.cnn.com/india')\n",
    "s.append('https://www.cnn.com/china')\n",
    "\n"
   ]
  },
  {
   "cell_type": "code",
   "execution_count": 13,
   "metadata": {},
   "outputs": [
    {
     "data": {
      "text/plain": [
       "'https://www.cnn.com/china'"
      ]
     },
     "execution_count": 13,
     "metadata": {},
     "output_type": "execute_result"
    }
   ],
   "source": [
    "s.pop()"
   ]
  },
  {
   "cell_type": "code",
   "execution_count": 14,
   "metadata": {},
   "outputs": [
    {
     "data": {
      "text/plain": [
       "'https://www.cnn.com/india'"
      ]
     },
     "execution_count": 14,
     "metadata": {},
     "output_type": "execute_result"
    }
   ],
   "source": [
    "s[-1]"
   ]
  },
  {
   "cell_type": "markdown",
   "metadata": {},
   "source": [
    "# 2. Using deque as a stack"
   ]
  },
  {
   "cell_type": "code",
   "execution_count": 17,
   "metadata": {},
   "outputs": [],
   "source": [
    "from collections import deque\n",
    "stack = deque()"
   ]
  },
  {
   "cell_type": "code",
   "execution_count": 18,
   "metadata": {},
   "outputs": [
    {
     "data": {
      "text/plain": [
       "['__add__',\n",
       " '__bool__',\n",
       " '__class__',\n",
       " '__contains__',\n",
       " '__copy__',\n",
       " '__delattr__',\n",
       " '__delitem__',\n",
       " '__dir__',\n",
       " '__doc__',\n",
       " '__eq__',\n",
       " '__format__',\n",
       " '__ge__',\n",
       " '__getattribute__',\n",
       " '__getitem__',\n",
       " '__gt__',\n",
       " '__hash__',\n",
       " '__iadd__',\n",
       " '__imul__',\n",
       " '__init__',\n",
       " '__init_subclass__',\n",
       " '__iter__',\n",
       " '__le__',\n",
       " '__len__',\n",
       " '__lt__',\n",
       " '__mul__',\n",
       " '__ne__',\n",
       " '__new__',\n",
       " '__reduce__',\n",
       " '__reduce_ex__',\n",
       " '__repr__',\n",
       " '__reversed__',\n",
       " '__rmul__',\n",
       " '__setattr__',\n",
       " '__setitem__',\n",
       " '__sizeof__',\n",
       " '__str__',\n",
       " '__subclasshook__',\n",
       " 'append',\n",
       " 'appendleft',\n",
       " 'clear',\n",
       " 'copy',\n",
       " 'count',\n",
       " 'extend',\n",
       " 'extendleft',\n",
       " 'index',\n",
       " 'insert',\n",
       " 'maxlen',\n",
       " 'pop',\n",
       " 'popleft',\n",
       " 'remove',\n",
       " 'reverse',\n",
       " 'rotate']"
      ]
     },
     "execution_count": 18,
     "metadata": {},
     "output_type": "execute_result"
    }
   ],
   "source": [
    "dir(stack)"
   ]
  },
  {
   "cell_type": "code",
   "execution_count": 19,
   "metadata": {},
   "outputs": [
    {
     "data": {
      "text/plain": [
       "deque(['https://www.cnn.com/'])"
      ]
     },
     "execution_count": 19,
     "metadata": {},
     "output_type": "execute_result"
    }
   ],
   "source": [
    "stack.append(\"https://www.cnn.com/\")\n",
    "stack\n"
   ]
  },
  {
   "cell_type": "code",
   "execution_count": 20,
   "metadata": {},
   "outputs": [
    {
     "data": {
      "text/plain": [
       "'https://www.cnn.com/'"
      ]
     },
     "execution_count": 20,
     "metadata": {},
     "output_type": "execute_result"
    }
   ],
   "source": [
    "stack.pop()"
   ]
  },
  {
   "cell_type": "code",
   "execution_count": 21,
   "metadata": {},
   "outputs": [],
   "source": [
    "class Stack:\n",
    "    def __init__(self):\n",
    "        self.container = deque()\n",
    "    \n",
    "    def push(self,val):\n",
    "        self.container.append(val)\n",
    "        \n",
    "    def pop(self):\n",
    "        return self.container.pop()\n",
    "    \n",
    "    def peek(self):\n",
    "        return  self.container[-1]\n",
    "    \n",
    "    def is_empty(self):\n",
    "        return len(self.container)==0\n",
    "    \n",
    "    def size(self):\n",
    "        return len(self.container)"
   ]
  },
  {
   "cell_type": "code",
   "execution_count": 22,
   "metadata": {},
   "outputs": [],
   "source": [
    "s = Stack()\n",
    "s.push(5)"
   ]
  },
  {
   "cell_type": "code",
   "execution_count": 23,
   "metadata": {},
   "outputs": [
    {
     "data": {
      "text/plain": [
       "5"
      ]
     },
     "execution_count": 23,
     "metadata": {},
     "output_type": "execute_result"
    }
   ],
   "source": [
    "s.peek()"
   ]
  },
  {
   "cell_type": "code",
   "execution_count": 24,
   "metadata": {},
   "outputs": [
    {
     "data": {
      "text/plain": [
       "5"
      ]
     },
     "execution_count": 24,
     "metadata": {},
     "output_type": "execute_result"
    }
   ],
   "source": [
    "s.pop()"
   ]
  },
  {
   "cell_type": "code",
   "execution_count": 25,
   "metadata": {},
   "outputs": [
    {
     "data": {
      "text/plain": [
       "True"
      ]
     },
     "execution_count": 25,
     "metadata": {},
     "output_type": "execute_result"
    }
   ],
   "source": [
    "s.is_empty()"
   ]
  },
  {
   "cell_type": "code",
   "execution_count": 26,
   "metadata": {},
   "outputs": [
    {
     "data": {
      "text/plain": [
       "0"
      ]
     },
     "execution_count": 26,
     "metadata": {},
     "output_type": "execute_result"
    }
   ],
   "source": [
    "s.size()"
   ]
  },
  {
   "cell_type": "code",
   "execution_count": null,
   "metadata": {},
   "outputs": [],
   "source": []
  }
 ],
 "metadata": {
  "kernelspec": {
   "display_name": "Python 3",
   "language": "python",
   "name": "python3"
  },
  "language_info": {
   "codemirror_mode": {
    "name": "ipython",
    "version": 3
   },
   "file_extension": ".py",
   "mimetype": "text/x-python",
   "name": "python",
   "nbconvert_exporter": "python",
   "pygments_lexer": "ipython3",
   "version": "3.8.3"
  }
 },
 "nbformat": 4,
 "nbformat_minor": 4
}
